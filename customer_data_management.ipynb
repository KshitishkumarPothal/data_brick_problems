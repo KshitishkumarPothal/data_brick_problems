{
 "cells": [
  {
   "cell_type": "code",
   "execution_count": 0,
   "metadata": {
    "application/vnd.databricks.v1+cell": {
     "cellMetadata": {
      "byteLimit": 2048000,
      "rowLimit": 10000
     },
     "inputWidgets": {},
     "nuid": "370ebbe0-bb83-48f3-abb4-f49c2663f396",
     "showTitle": false,
     "tableResultSettingsMap": {},
     "title": ""
    }
   },
   "outputs": [],
   "source": [
    "from pyspark.sql import SparkSession\n",
    "from pyspark.sql.types import StructType, StructField, IntegerType, StringType, DateType\n",
    "import datetime\n",
    "\n",
    "spark = SparkSession.builder.appName(\"CustomerData\").getOrCreate()\n"
   ]
  },
  {
   "cell_type": "code",
   "execution_count": 0,
   "metadata": {
    "application/vnd.databricks.v1+cell": {
     "cellMetadata": {
      "byteLimit": 2048000,
      "rowLimit": 10000
     },
     "inputWidgets": {},
     "nuid": "d79f783f-ee29-4f84-9ba3-b5669031d434",
     "showTitle": false,
     "tableResultSettingsMap": {},
     "title": ""
    }
   },
   "outputs": [
    {
     "output_type": "execute_result",
     "data": {
      "text/plain": [
       "DataFrame[]"
      ]
     },
     "execution_count": 6,
     "metadata": {},
     "output_type": "execute_result"
    }
   ],
   "source": [
    "# Stub for creating the schema in Unity Catalog (assume catalog 'retail' exists)\n",
    "spark.sql(\"CREATE SCHEMA IF NOT EXISTS retail.customer_data\")\n"
   ]
  },
  {
   "cell_type": "code",
   "execution_count": 0,
   "metadata": {
    "application/vnd.databricks.v1+cell": {
     "cellMetadata": {
      "byteLimit": 2048000,
      "rowLimit": 10000
     },
     "inputWidgets": {},
     "nuid": "ce6c4e83-f191-4ade-90c2-6a2ce7ff6e27",
     "showTitle": false,
     "tableResultSettingsMap": {},
     "title": ""
    }
   },
   "outputs": [],
   "source": [
    "\n",
    "customer_schema = StructType([\n",
    "    StructField(\"customer_id\", IntegerType(), False),\n",
    "    StructField(\"name\", StringType(), True),\n",
    "    StructField(\"region\", StringType(), True),\n",
    "    StructField(\"status\", StringType(), True),\n",
    "    StructField(\"signup_date\", DateType(), True)\n",
    "])\n",
    "\n",
    "# ✅ Sample data using datetime.date objects\n",
    "customer_data = [\n",
    "    (1, \"Alice Johnson\", \"West\", \"Active\", datetime.date(2023, 1, 15)),\n",
    "    (2, \"Bob Smith\", \"East\", \"Inactive\", datetime.date(2023, 2, 20)),\n",
    "    (3, \"Charlie Lee\", \"West\", \"Active\", datetime.date(2023, 3, 10))\n",
    "]\n"
   ]
  },
  {
   "cell_type": "code",
   "execution_count": 0,
   "metadata": {
    "application/vnd.databricks.v1+cell": {
     "cellMetadata": {
      "byteLimit": 2048000,
      "rowLimit": 10000
     },
     "inputWidgets": {},
     "nuid": "69121ceb-70fd-4fb2-b2c3-4510f9d922bf",
     "showTitle": false,
     "tableResultSettingsMap": {},
     "title": ""
    }
   },
   "outputs": [
    {
     "output_type": "stream",
     "name": "stdout",
     "output_type": "stream",
     "text": [
      "Initial Customer Data:\n+-----------+-------------+------+--------+-----------+\n|customer_id|name         |region|status  |signup_date|\n+-----------+-------------+------+--------+-----------+\n|1          |Alice Johnson|West  |Active  |2023-01-15 |\n|2          |Bob Smith    |East  |Inactive|2023-02-20 |\n|3          |Charlie Lee  |West  |Active  |2023-03-10 |\n+-----------+-------------+------+--------+-----------+\n\nActive Customers in West Region:\n+-----------+-------------+------+\n|customer_id|name         |region|\n+-----------+-------------+------+\n|1          |Alice Johnson|West  |\n|3          |Charlie Lee  |West  |\n+-----------+-------------+------+\n\n"
     ]
    }
   ],
   "source": [
    "\n",
    "# ✅ Create DataFrame\n",
    "customers_df = spark.createDataFrame(customer_data, schema=customer_schema)\n",
    "\n",
    "# ✅ Show DataFrame (works everywhere)\n",
    "print(\"Initial Customer Data:\")\n",
    "customers_df.show(truncate=False)\n",
    "\n",
    "# ✅ Write as Delta table\n",
    "customers_df.write.format(\"delta\").mode(\"overwrite\").saveAsTable(\"retail.customer_data.customers\")\n",
    "\n",
    "# ✅ Query active customers in 'West'\n",
    "print(\"Active Customers in West Region:\")\n",
    "result_df = spark.sql(\"\"\"\n",
    "    SELECT customer_id, name, region\n",
    "    FROM retail.customer_data.customers\n",
    "    WHERE status = 'Active' AND region = 'West'\n",
    "\"\"\")\n",
    "result_df.show(truncate=False)\n"
   ]
  },
  {
   "cell_type": "markdown",
   "metadata": {
    "application/vnd.databricks.v1+cell": {
     "cellMetadata": {},
     "inputWidgets": {},
     "nuid": "9f395ea9-bc15-40a4-ac91-4d98f87d8854",
     "showTitle": false,
     "tableResultSettingsMap": {},
     "title": ""
    }
   },
   "source": []
  }
 ],
 "metadata": {
  "application/vnd.databricks.v1+notebook": {
   "computePreferences": null,
   "dashboards": [],
   "environmentMetadata": {
    "base_environment": "",
    "environment_version": "2"
   },
   "inputWidgetPreferences": null,
   "language": "python",
   "notebookMetadata": {
    "pythonIndentUnit": 4
   },
   "notebookName": "customer_data_management",
   "widgets": {}
  },
  "language_info": {
   "name": "python"
  }
 },
 "nbformat": 4,
 "nbformat_minor": 0
}